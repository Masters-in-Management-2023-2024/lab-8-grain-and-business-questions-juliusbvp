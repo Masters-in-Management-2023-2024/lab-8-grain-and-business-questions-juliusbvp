{
  "nbformat": 4,
  "nbformat_minor": 0,
  "metadata": {
    "colab": {
      "provenance": []
    },
    "kernelspec": {
      "name": "python3",
      "display_name": "Python 3"
    },
    "language_info": {
      "name": "python"
    }
  },
  "cells": [
    {
      "cell_type": "code",
      "execution_count": 28,
      "metadata": {
        "colab": {
          "base_uri": "https://localhost:8080/"
        },
        "id": "QQ6-H1PQPtwS",
        "outputId": "fe8cafa9-0c34-4f44-f4c4-53de9caf46c7"
      },
      "outputs": [
        {
          "output_type": "stream",
          "name": "stdout",
          "text": [
            "Loading diamonds dataset...\n",
            "Dataset loaded successfully!\n",
            "------------------------------------------------------------------------\n",
            "Section 1: Initial Inventory Assessment\n",
            "\n",
            "Q1 — Inventory scale: 6,000 rows (diamonds), 8 columns (attributes).\n"
          ]
        }
      ],
      "source": [
        "# Diamond Company Analytics Challenge — Polars Solution\n",
        "# ----------------------------------------------------\n",
        "import polars as pl\n",
        "\n",
        "print(\"Loading diamonds dataset...\")\n",
        "df = pl.read_csv(\n",
        "    \"https://raw.githubusercontent.com/pycaret/pycaret/master/datasets/diamond.csv\",\n",
        "    infer_schema_length=2000\n",
        ")\n",
        "print(\"Dataset loaded successfully!\")\n",
        "print(\"-\" * 72)\n",
        "\n",
        "# (Helper) Safe column access with friendly error if schema differs\n",
        "def require_cols(cols):\n",
        "    missing = [c for c in cols if c not in df.columns]\n",
        "    if missing:\n",
        "        raise ValueError(\n",
        "            f\"Expected columns missing from dataset: {missing}\\n\"\n",
        "            f\"Available columns: {df.columns}\"\n",
        "        )\n",
        "\n",
        "# Try to align to the classic diamonds schema if possible\n",
        "# Expected core columns for this exercise:\n",
        "core_cols = [\"Carat Weight\",\"Cut\",\"Color\",\"Clarity\",\"Price\"]\n",
        "require_cols(core_cols)\n",
        "\n",
        "# -----------------------------\n",
        "# Section 1: Initial Assessment\n",
        "# -----------------------------\n",
        "print(\"Section 1: Initial Inventory Assessment\")\n",
        "print()\n",
        "\n",
        "# Q1: Scale of the database\n",
        "n_rows, n_cols = df.height, df.width\n",
        "print(f\"Q1 — Inventory scale: {n_rows:,} rows (diamonds), {n_cols} columns (attributes).\")"
      ]
    },
    {
      "cell_type": "code",
      "source": [
        "# Q2 Business term → Code: \"What columns\" → df.columns\n",
        "print(\"Q2:\", df.columns)\n"
      ],
      "metadata": {
        "colab": {
          "base_uri": "https://localhost:8080/"
        },
        "id": "VD4Fu_JzQJgd",
        "outputId": "f15f488f-d95e-4371-992a-a8dc942d85b7"
      },
      "execution_count": 29,
      "outputs": [
        {
          "output_type": "stream",
          "name": "stdout",
          "text": [
            "Q2: ['Carat Weight', 'Cut', 'Color', 'Clarity', 'Polish', 'Symmetry', 'Report', 'Price']\n"
          ]
        }
      ]
    },
    {
      "cell_type": "markdown",
      "source": [
        "#Q3\n",
        "Each record describes an individual diamond, including physical characteristics (carat, cut, color, clarity, dimensions) and market value."
      ],
      "metadata": {
        "id": "md6glZA4R_7x"
      }
    },
    {
      "cell_type": "code",
      "source": [
        "#Q4\n",
        "total_carats = df.select(pl.sum(\"Carat Weight\")).item()\n",
        "\n",
        "print(\"=== Total Carats in Inventory ===\")\n",
        "print(f\"Total carats: {total_carats:,.2f}\")"
      ],
      "metadata": {
        "colab": {
          "base_uri": "https://localhost:8080/"
        },
        "id": "FGJJC6HeUjZe",
        "outputId": "ecbbc2cc-c74a-4194-fae4-a3e3282005f2"
      },
      "execution_count": 30,
      "outputs": [
        {
          "output_type": "stream",
          "name": "stdout",
          "text": [
            "=== Total Carats in Inventory ===\n",
            "Total carats: 8,007.12\n"
          ]
        }
      ]
    },
    {
      "cell_type": "code",
      "source": [
        "# Q5: Variety of cuts (distinct styles, not quantities)\n",
        "print(\"\\nQ5 — Variety of cuts (distinct styles we carry):\")\n",
        "n_cuts = df.select(pl.col(\"Cut\").n_unique()).item()\n",
        "cuts_df = df.select(pl.col(\"Cut\").unique().sort().alias(\"cuts\"))\n",
        "print(f\"Number of distinct cuts: {n_cuts}\")\n",
        "print(\"Cuts:\")\n",
        "print(cuts_df)"
      ],
      "metadata": {
        "colab": {
          "base_uri": "https://localhost:8080/"
        },
        "id": "ssOZLVIHVdPl",
        "outputId": "3b5b408e-43be-4d50-d4af-da480c6fd055"
      },
      "execution_count": 31,
      "outputs": [
        {
          "output_type": "stream",
          "name": "stdout",
          "text": [
            "\n",
            "Q5 — Variety of cuts (distinct styles we carry):\n",
            "Number of distinct cuts: 5\n",
            "Cuts:\n",
            "shape: (5, 1)\n",
            "┌─────────────────┐\n",
            "│ cuts            │\n",
            "│ ---             │\n",
            "│ str             │\n",
            "╞═════════════════╡\n",
            "│ Fair            │\n",
            "│ Good            │\n",
            "│ Ideal           │\n",
            "│ Signature-Ideal │\n",
            "│ Very Good       │\n",
            "└─────────────────┘\n"
          ]
        }
      ]
    },
    {
      "cell_type": "code",
      "source": [
        "# Q6: Most and least valuable diamond (by listed Price)\n",
        "\n",
        "print(\"\\nQ6 — Price exposure (most & least valuable diamonds):\")\n",
        "\n",
        "most_val = (\n",
        "    df.select(core_cols)\n",
        "      .sort(\"Price\", descending=True)  # <- cross-version safe\n",
        "      .head(1)\n",
        ")\n",
        "least_val = (\n",
        "    df.select(core_cols)\n",
        "      .sort(\"Price\")                   # ascending (least valuable)\n",
        "      .head(1)\n",
        ")\n",
        "\n",
        "print(\"Most valuable diamond:\")\n",
        "print(most_val)\n",
        "print(\"Least valuable diamond:\")\n",
        "print(least_val)"
      ],
      "metadata": {
        "colab": {
          "base_uri": "https://localhost:8080/"
        },
        "id": "EmOKZMyKVi0W",
        "outputId": "dc7a027c-aa04-433b-83cc-1fb44532319c"
      },
      "execution_count": 32,
      "outputs": [
        {
          "output_type": "stream",
          "name": "stdout",
          "text": [
            "\n",
            "Q6 — Price exposure (most & least valuable diamonds):\n",
            "Most valuable diamond:\n",
            "shape: (1, 5)\n",
            "┌──────────────┬───────┬───────┬─────────┬────────┐\n",
            "│ Carat Weight ┆ Cut   ┆ Color ┆ Clarity ┆ Price  │\n",
            "│ ---          ┆ ---   ┆ ---   ┆ ---     ┆ ---    │\n",
            "│ f64          ┆ str   ┆ str   ┆ str     ┆ i64    │\n",
            "╞══════════════╪═══════╪═══════╪═════════╪════════╡\n",
            "│ 2.79         ┆ Ideal ┆ D     ┆ IF      ┆ 101561 │\n",
            "└──────────────┴───────┴───────┴─────────┴────────┘\n",
            "Least valuable diamond:\n",
            "shape: (1, 5)\n",
            "┌──────────────┬──────┬───────┬─────────┬───────┐\n",
            "│ Carat Weight ┆ Cut  ┆ Color ┆ Clarity ┆ Price │\n",
            "│ ---          ┆ ---  ┆ ---   ┆ ---     ┆ ---   │\n",
            "│ f64          ┆ str  ┆ str   ┆ str     ┆ i64   │\n",
            "╞══════════════╪══════╪═══════╪═════════╪═══════╡\n",
            "│ 0.77         ┆ Good ┆ I     ┆ VS1     ┆ 2184  │\n",
            "└──────────────┴──────┴───────┴─────────┴───────┘\n"
          ]
        }
      ]
    },
    {
      "cell_type": "code",
      "source": [
        "# Q7: Typical prices across color grades (use median as 'typical')\n",
        "print(\"\\nQ7 — Typical (median) price by color grade:\")\n",
        "q7 = (\n",
        "    df.group_by(\"Color\")\n",
        "      .agg([\n",
        "          pl.len().alias(\"n_diamonds\"),\n",
        "          pl.col(\"Price\").median().alias(\"median_price\"),\n",
        "          pl.col(\"Price\").mean().alias(\"avg_price\"),\n",
        "      ])\n",
        "      .sort(\"Color\")\n",
        ")\n",
        "print(q7)\n",
        "\n",
        "print(\"\\nReflection after Q7:\")\n",
        "print(\"  New grain = one row per Color grade (an aggregated color segment of inventory).\")"
      ],
      "metadata": {
        "colab": {
          "base_uri": "https://localhost:8080/"
        },
        "id": "5qR_kEqFWkFq",
        "outputId": "10794842-69f0-4b66-d68d-f822852d711d"
      },
      "execution_count": 33,
      "outputs": [
        {
          "output_type": "stream",
          "name": "stdout",
          "text": [
            "\n",
            "Q7 — Typical (median) price by color grade:\n",
            "shape: (6, 4)\n",
            "┌───────┬────────────┬──────────────┬──────────────┐\n",
            "│ Color ┆ n_diamonds ┆ median_price ┆ avg_price    │\n",
            "│ ---   ┆ ---        ┆ ---          ┆ ---          │\n",
            "│ str   ┆ u32        ┆ f64          ┆ f64          │\n",
            "╞═══════╪════════════╪══════════════╪══════════════╡\n",
            "│ D     ┆ 661        ┆ 7567.0       ┆ 15255.783661 │\n",
            "│ E     ┆ 778        ┆ 7059.5       ┆ 11539.190231 │\n",
            "│ F     ┆ 1013       ┆ 8860.0       ┆ 12712.241856 │\n",
            "│ G     ┆ 1501       ┆ 8800.0       ┆ 12520.050633 │\n",
            "│ H     ┆ 1079       ┆ 7169.0       ┆ 10487.347544 │\n",
            "│ I     ┆ 968        ┆ 6655.0       ┆ 8989.636364  │\n",
            "└───────┴────────────┴──────────────┴──────────────┘\n",
            "\n",
            "Reflection after Q7:\n",
            "  New grain = one row per Color grade (an aggregated color segment of inventory).\n"
          ]
        }
      ]
    },
    {
      "cell_type": "code",
      "source": [
        "# Q8: Clarity breakdown — count, typical (median) price, total carats heldprint(\"\\nQ8 — Inventory by clarity grade (count, typical price, total carats):\")\n",
        "q8 = (\n",
        "    df.group_by(\"Clarity\")\n",
        "      .agg([\n",
        "          pl.len().alias(\"n_diamonds\"),\n",
        "          pl.col(\"Price\").median().alias(\"median_price\"),\n",
        "          pl.col(\"Carat Weight\").sum().alias(\"total_carats\"),\n",
        "      ])\n",
        "      .sort(\"Clarity\")\n",
        ")\n",
        "print(q8)"
      ],
      "metadata": {
        "colab": {
          "base_uri": "https://localhost:8080/"
        },
        "id": "_e5lXW5MW2gt",
        "outputId": "76ffee89-00f0-474a-f14f-c155924ed3af"
      },
      "execution_count": 34,
      "outputs": [
        {
          "output_type": "stream",
          "name": "stdout",
          "text": [
            "shape: (7, 4)\n",
            "┌─────────┬────────────┬──────────────┬──────────────┐\n",
            "│ Clarity ┆ n_diamonds ┆ median_price ┆ total_carats │\n",
            "│ ---     ┆ ---        ┆ ---          ┆ ---          │\n",
            "│ str     ┆ u32        ┆ f64          ┆ f64          │\n",
            "╞═════════╪════════════╪══════════════╪══════════════╡\n",
            "│ FL      ┆ 4          ┆ 62371.5      ┆ 7.87         │\n",
            "│ IF      ┆ 219        ┆ 12647.0      ┆ 316.0        │\n",
            "│ SI1     ┆ 2059       ┆ 5417.0       ┆ 2563.69      │\n",
            "│ VS1     ┆ 1192       ┆ 9245.0       ┆ 1682.74      │\n",
            "│ VS2     ┆ 1575       ┆ 7568.0       ┆ 2170.81      │\n",
            "│ VVS1    ┆ 285        ┆ 11142.0      ┆ 389.43       │\n",
            "│ VVS2    ┆ 666        ┆ 10266.0      ┆ 876.58       │\n",
            "└─────────┴────────────┴──────────────┴──────────────┘\n"
          ]
        }
      ]
    },
    {
      "cell_type": "code",
      "source": [
        "# Q9 — Pricing structure across Cut × Color\n",
        "print(\"\\nQ9 — Pricing structure across Cut × Color:\")\n",
        "\n",
        "q9 = (\n",
        "    df.group_by([\"Cut\", \"Color\"])\n",
        "      .agg([pl.len().alias(\"n\"), pl.col(\"Price\").median().alias(\"med\"), pl.col(\"Price\").mean().alias(\"avg\")])\n",
        "      .sort([\"Cut\", \"Color\"])\n",
        ")\n",
        "print(q9)\n",
        "\n",
        "print(\"\\nQ9 (matrix) — Median price by Cut × Color:\")\n",
        "q9_pivot = df.pivot(values=\"Price\", index=\"Cut\", on=\"Color\", aggregate_function=\"median\").sort(\"Cut\")\n",
        "print(q9_pivot)\n",
        "\n",
        "print(\"\\nReflection after Q9:\")\n",
        "print(\"  New grain = one row = a single Cut + Color pair.\")"
      ],
      "metadata": {
        "colab": {
          "base_uri": "https://localhost:8080/"
        },
        "id": "ioGe4F42XNV0",
        "outputId": "880c91d3-ce0e-4456-fdd6-8ff69c7ca04a"
      },
      "execution_count": 35,
      "outputs": [
        {
          "output_type": "stream",
          "name": "stdout",
          "text": [
            "\n",
            "Q9 — Pricing structure across Cut × Color:\n",
            "shape: (30, 5)\n",
            "┌───────────┬───────┬─────┬────────┬──────────────┐\n",
            "│ Cut       ┆ Color ┆ n   ┆ med    ┆ avg          │\n",
            "│ ---       ┆ ---   ┆ --- ┆ ---    ┆ ---          │\n",
            "│ str       ┆ str   ┆ u32 ┆ f64    ┆ f64          │\n",
            "╞═══════════╪═══════╪═════╪════════╪══════════════╡\n",
            "│ Fair      ┆ D     ┆ 12  ┆ 5040.0 ┆ 6058.25      │\n",
            "│ Fair      ┆ E     ┆ 32  ┆ 4908.5 ┆ 5370.625     │\n",
            "│ Fair      ┆ F     ┆ 24  ┆ 4628.0 ┆ 6063.625     │\n",
            "│ Fair      ┆ G     ┆ 21  ┆ 4646.0 ┆ 7345.52381   │\n",
            "│ Fair      ┆ H     ┆ 24  ┆ 4358.0 ┆ 5908.5       │\n",
            "│ …         ┆ …     ┆ …   ┆ …      ┆ …            │\n",
            "│ Very Good ┆ E     ┆ 323 ┆ 6703.0 ┆ 12101.910217 │\n",
            "│ Very Good ┆ F     ┆ 455 ┆ 8330.0 ┆ 12413.905495 │\n",
            "│ Very Good ┆ G     ┆ 578 ┆ 8249.0 ┆ 12354.013841 │\n",
            "│ Very Good ┆ H     ┆ 424 ┆ 6564.0 ┆ 10056.106132 │\n",
            "│ Very Good ┆ I     ┆ 383 ┆ 6684.0 ┆ 8930.031332  │\n",
            "└───────────┴───────┴─────┴────────┴──────────────┘\n",
            "\n",
            "Q9 (matrix) — Median price by Cut × Color:\n",
            "shape: (5, 7)\n",
            "┌─────────────────┬────────┬─────────┬────────┬─────────┬─────────┬────────┐\n",
            "│ Cut             ┆ H      ┆ E       ┆ G      ┆ D       ┆ F       ┆ I      │\n",
            "│ ---             ┆ ---    ┆ ---     ┆ ---    ┆ ---     ┆ ---     ┆ ---    │\n",
            "│ str             ┆ f64    ┆ f64     ┆ f64    ┆ f64     ┆ f64     ┆ f64    │\n",
            "╞═════════════════╪════════╪═════════╪════════╪═════════╪═════════╪════════╡\n",
            "│ Fair            ┆ 4358.0 ┆ 4908.5  ┆ 4646.0 ┆ 5040.0  ┆ 4628.0  ┆ 3801.0 │\n",
            "│ Good            ┆ 5453.5 ┆ 5981.5  ┆ 5954.5 ┆ 5763.0  ┆ 6037.0  ┆ 5600.0 │\n",
            "│ Ideal           ┆ 8014.0 ┆ 8276.5  ┆ 9510.5 ┆ 10338.0 ┆ 10360.0 ┆ 6817.0 │\n",
            "│ Signature-Ideal ┆ 7788.0 ┆ 11014.0 ┆ 8529.0 ┆ 11712.5 ┆ 10433.0 ┆ 6980.0 │\n",
            "│ Very Good       ┆ 6564.0 ┆ 6703.0  ┆ 8249.0 ┆ 6682.0  ┆ 8330.0  ┆ 6684.0 │\n",
            "└─────────────────┴────────┴─────────┴────────┴─────────┴─────────┴────────┘\n",
            "\n",
            "Reflection after Q9:\n",
            "  New grain = one row = a single Cut + Color pair.\n"
          ]
        }
      ]
    },
    {
      "cell_type": "code",
      "source": [
        "#Q10\n",
        "print(\"\\nQ10 — Top 5 most valuable Color–Cut segments by total inventory value:\")\n",
        "q10 = (\n",
        "    df.group_by([\"Color\",\"Cut\"])\n",
        "      .agg([\n",
        "          pl.len().alias(\"n_diamonds\"),\n",
        "          pl.col(\"Price\").sum().alias(\"total_value\"),\n",
        "          pl.col(\"Carat Weight\").sum().alias(\"total_carats\"),\n",
        "          pl.col(\"Price\").median().alias(\"median_price\"),\n",
        "      ])\n",
        "      .sort(\"total_value\", descending=True)\n",
        "      .head(5)\n",
        ")\n",
        "print(q10)"
      ],
      "metadata": {
        "colab": {
          "base_uri": "https://localhost:8080/"
        },
        "id": "q3Fb3S-hXkFr",
        "outputId": "d9f1fec7-20a6-4237-b4df-bfdd546248f2"
      },
      "execution_count": 36,
      "outputs": [
        {
          "output_type": "stream",
          "name": "stdout",
          "text": [
            "\n",
            "Q10 — Top 5 most valuable Color–Cut segments by total inventory value:\n",
            "shape: (5, 6)\n",
            "┌───────┬───────────┬────────────┬─────────────┬──────────────┬──────────────┐\n",
            "│ Color ┆ Cut       ┆ n_diamonds ┆ total_value ┆ total_carats ┆ median_price │\n",
            "│ ---   ┆ ---       ┆ ---        ┆ ---         ┆ ---          ┆ ---          │\n",
            "│ str   ┆ str       ┆ u32        ┆ i64         ┆ f64          ┆ f64          │\n",
            "╞═══════╪═══════════╪════════════╪═════════════╪══════════════╪══════════════╡\n",
            "│ G     ┆ Ideal     ┆ 690        ┆ 9363514     ┆ 966.9        ┆ 9510.5       │\n",
            "│ G     ┆ Very Good ┆ 578        ┆ 7140620     ┆ 795.4        ┆ 8249.0       │\n",
            "│ F     ┆ Very Good ┆ 455        ┆ 5648327     ┆ 592.77       ┆ 8330.0       │\n",
            "│ F     ┆ Ideal     ┆ 363        ┆ 5346782     ┆ 502.01       ┆ 10360.0      │\n",
            "│ H     ┆ Ideal     ┆ 458        ┆ 5279687     ┆ 653.15       ┆ 8014.0       │\n",
            "└───────┴───────────┴────────────┴─────────────┴──────────────┴──────────────┘\n"
          ]
        }
      ]
    }
  ]
}